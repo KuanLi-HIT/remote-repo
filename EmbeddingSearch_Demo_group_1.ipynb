{
 "cells": [
  {
   "cell_type": "code",
   "execution_count": 1,
   "id": "2ed0baca-99f0-4f0b-8fe8-e61b2cd0f4ab",
   "metadata": {},
   "outputs": [],
   "source": [
    "from langchain.embeddings import HuggingFaceEmbeddings\n",
    "from langchain.docstore.document import Document\n",
    "from langchain.vectorstores import Chroma\n",
    "from langchain.document_loaders import PyPDFLoader\n",
    "from langchain.text_splitter import RecursiveCharacterTextSplitter\n",
    "from langchain.document_loaders import UnstructuredFileLoader"
   ]
  },
  {
   "cell_type": "code",
   "execution_count": 2,
   "id": "1496c785-bca0-46e2-ab4e-d8377e775b30",
   "metadata": {},
   "outputs": [
    {
     "name": "stdout",
     "output_type": "stream",
     "text": [
      "\n"
     ]
    }
   ],
   "source": [
    "# loader = PyPDFLoader(\"./compound.pdf\")\n",
    "# documents = loader.load()\n",
    "# loader = UnstructuredFileLoader(\"./file2.txt\")\n",
    "# documents = loader.load()\n",
    "\n",
    "texts = []\n",
    "with open(\"./test.txt\", \"r\") as f:\n",
    "    while True:\n",
    "        line = f.readline()\n",
    "        texts.append(Document(page_content=line))\n",
    "        # print(texts)\n",
    "        if not line:\n",
    "           break\n",
    "    print(line.strip())"
   ]
  },
  {
   "cell_type": "code",
   "execution_count": 3,
   "id": "1bce3230-f398-46d4-9342-719af8b959a6",
   "metadata": {},
   "outputs": [
    {
     "name": "stdout",
     "output_type": "stream",
     "text": [
      "page_content='报告20/31621/31622/3162022年年度报告23/3162022年年度报告24/3162022年年度报告25/31626/31627/31628/31629/31630/31631/31632/3162022年年度报告33/3162022年年度报告34/3162022年年度报告35/31636/3162022年年度报告37/3162022年年度报告38/31639/31640/3162022年年度报告41/3162022年年度报告42/31643/3162022年年度报告44/31\\n' metadata={}\n"
     ]
    }
   ],
   "source": [
    "print(texts[800])"
   ]
  },
  {
   "cell_type": "code",
   "execution_count": null,
   "id": "cdc645e7-ccd4-4c5f-8825-6a2ba78db989",
   "metadata": {},
   "outputs": [],
   "source": [
    "# text_splitter = RecursiveCharacterTextSplitter(chunk_size=500, chunk_overlap=50)\n",
    "# docs = text_splitter.split_documents(documents)"
   ]
  },
  {
   "cell_type": "code",
   "execution_count": 2,
   "id": "417b91f5-e9ec-4af4-a796-b261d0febc32",
   "metadata": {},
   "outputs": [],
   "source": [
    "# 指定huggingface上的嵌入模型\n",
    "embeddings = HuggingFaceEmbeddings(model_name='shibing624/text2vec-base-chinese')"
   ]
  },
  {
   "cell_type": "code",
   "execution_count": 17,
   "id": "430a1f2b-0f43-47a2-8db9-94b4f379629d",
   "metadata": {},
   "outputs": [
    {
     "data": {
      "text/plain": [
       "[Document(page_content='2021年4月29日,中国空间站天和核心舱发射任务取得圆满成功,开启空间\\n站任务的新时代。5月29日,天舟二号货运飞船成功发射,自主快速交会对接于\\n天和核心舱。6月17日,航天员聂海胜、刘伯明、汤洪波乘坐神舟十二号载人飞船\\n升空,成为中国空间站的首批“访客”,并于9月17日返回地球。9月20日,天舟\\n三号货运飞船升空,与天和核心舱及天舟二号货运飞船组合体交会对接。10月\\n16日,航天员翟志刚、王亚平、叶光富乘坐神舟十三号载人飞船升空,成为中国空\\n间站的第二批“访客”,开始为期6个月的太空工作和生活。', metadata={}),\n",
       " Document(page_content='北京烤鸭好吃吗？', metadata={})]"
      ]
     },
     "execution_count": 17,
     "metadata": {},
     "output_type": "execute_result"
    }
   ],
   "source": [
    "# texts = [\n",
    "#     Document(page_content='2021年4月29日,中国空间站天和核心舱发射任务取得圆满成功,开启空间\\n站任务的新时代。5月29日,天舟二号货运飞船成功发射,自主快速交会对接于\\n天和核心舱。6月17日,航天员聂海胜、刘伯明、汤洪波乘坐神舟十二号载人飞船\\n升空,成为中国空间站的首批“访客”,并于9月17日返回地球。9月20日,天舟\\n三号货运飞船升空,与天和核心舱及天舟二号货运飞船组合体交会对接。10月\\n16日,航天员翟志刚、王亚平、叶光富乘坐神舟十三号载人飞船升空,成为中国空\\n间站的第二批“访客”,开始为期6个月的太空工作和生活。'),\n",
    "#     Document(page_content='北京烤鸭好吃吗？'),\n",
    "# ]\n",
    "# texts"
   ]
  },
  {
   "cell_type": "code",
   "execution_count": 5,
   "id": "7aa9c836-7e81-43fc-8105-578017d0e028",
   "metadata": {
    "scrolled": true
   },
   "outputs": [],
   "source": [
    "# Embedding 构建语义向量数据库 \n",
    "# 仅需运行一次\n",
    "# db = Chroma.from_documents(texts, embeddings, persist_directory=\"./testChromadb\")\n",
    "\n",
    "# 保存数据库至本地\n",
    "# db.persist()\n"
   ]
  },
  {
   "cell_type": "code",
   "execution_count": 3,
   "id": "26886ee4-5cc6-4339-bdcc-536305053e75",
   "metadata": {},
   "outputs": [],
   "source": [
    "# 从本地加载数据库\n",
    "db = Chroma(persist_directory=\"./testChromadb\", embedding_function=embeddings)"
   ]
  },
  {
   "cell_type": "code",
   "execution_count": 11,
   "id": "5ed10f6c-d4e0-42e7-b591-81cbd62c92d7",
   "metadata": {},
   "outputs": [
    {
     "name": "stdout",
     "output_type": "stream",
     "text": [
      "[Document(page_content='２０１９年是中国载人航天工程接续努力、强基固本的重要一年?２０１９年７月１９日?我国第一个真正意义上的空间实验室天宫二号圆满完成近３年飞行试验任务?受控离轨并再入大气层?标志着中国载人航天工程空间实验室阶段全部任务圆满完成?全面迈进空间站建设阶段?目前空间站研制建设稳步推进?主要系统关键技术攻关已经完成?各系统正在按计划开展初样、正(试)样研制及试验?工程全线积极备战２０２０年空间站任务阶段的首次飞行?与此同时?首批中国空间站应用国际合作项目在联合国外空司发布?中国载人航天彰显大国担当?', metadata={}), Document(page_content='2021年4月29日,中国空间站天和核心舱发射任务取得圆满成功,开启空间\\n站任务的新时代。5月29日,天舟二号货运飞船成功发射,自主快速交会对接于\\n天和核心舱。6月17日,航天员聂海胜、刘伯明、汤洪波乘坐神舟十二号载人飞船\\n升空,成为中国空间站的首批“访客”,并于9月17日返回地球。9月20日,天舟\\n三号货运飞船升空,与天和核心舱及天舟二号货运飞船组合体交会对接。10月\\n16日,航天员翟志刚、王亚平、叶光富乘坐神舟十三号载人飞船升空,成为中国空\\n间站的第二批“访客”,开始为期6个月的太空工作和生活。', metadata={}), Document(page_content='2021年4月29日,中国空间站天和核心舱发射任务取得圆满成功,开启空间\\n站任务的新时代。5月29日,天舟二号货运飞船成功发射,自主快速交会对接于\\n天和核心舱。6月17日,航天员聂海胜、刘伯明、汤洪波乘坐神舟十二号载人飞船\\n升空,成为中国空间站的首批“访客”,并于9月17日返回地球。9月20日,天舟\\n三号货运飞船升空,与天和核心舱及天舟二号货运飞船组合体交会对接。10月\\n16日,航天员翟志刚、王亚平、叶光富乘坐神舟十三号载人飞船升空,成为中国空\\n间站的第二批“访客”,开始为期6个月的太空工作和生活。', metadata={})]\n"
     ]
    }
   ],
   "source": [
    "# 测试语义检索效果\n",
    "query = \"现在的预备航天员一般要经过几年时间的训练才能飞行？\"\n",
    "docs = db.similarity_search(query, k=3)\n",
    "print(docs)"
   ]
  },
  {
   "cell_type": "code",
   "execution_count": 4,
   "id": "3d1a95f0-88d2-462c-bbd5-60d8a3fcc009",
   "metadata": {},
   "outputs": [
    {
     "name": "stdout",
     "output_type": "stream",
     "text": [
      "[Document(page_content='和数字中国建设规划是数字时代推进中国式现代化发展的重要引擎，是构筑国家竞争新优势的有力支撑，自上而下为社会经济、生产生活方式指明发展方向。卫星应用利用空天地一体化时空大数据感知手段获取的大尺度、全要素地物、地表数据，是数字基础设施建设、数据要素产业推进的重要基石。数字化转型从基础设施建设到行业的信息化，再到基于数据要素的价值变现，为以遥感和北斗导航技术为代表的下一代空间信息产业发展带来众多新的需求点。随着遥感+北斗导航产业政策落地，卫星应用的市场化应用和产业化规模逐步在生态环境、海洋渔业、气象、\\n', metadata={}), Document(page_content='\\ufeff第三节管理层讨论与分析一、经营情况讨论与分析2023年2月27日，中共中央、国务院印发《数字中国建设整体布局规划》，规划明确提出推动社会治理精准化，建设绿色智慧的数字生态文明，推动生态环境智慧治理，加快构建智慧高效的生态环境信息化体系，到2025年，基本形成横向打通、纵向贯通、协调有力的一体化推进格局，数字化发展水平进入世界前列，数字中国建设取得重大成就，并将数字中国建设作为对有关党政领导干部考核评价的参考。空间信息基础设施作为数字中国建设的重要组成部分，加速空间信息基础设施智慧化、数字化升级，\\n', metadata={}), Document(page_content='和治理创新的重要途径。在数字中国建设背景下，需要运用数字化技术融合时空大数据，打造数字国土空间，并通过人机、AI等技术实现协同治理、要素融合，最终实现数字赋能场景。三、SAAS化推动新的服务模式海量对地观测遥感数据的不断涌现，对数据存储和计算能力提出了很高的要求，传统桌面端遥感处理平台难以满足大规模遥感数据快速处理与分析的需求。遥感云计算平台的快速发展为突破传统遥感技术算力要求高，数据储存成本大的瓶颈提供有效途径，显著降低本地硬件投入成本。PIE-Engine遥感云平台基于云计算、物联网、大数据\\n', metadata={})]\n"
     ]
    }
   ],
   "source": [
    "# 测试语义检索效果\n",
    "query = \"数字中国\"\n",
    "docs = db.similarity_search(query, k=3)\n",
    "print(docs)"
   ]
  },
  {
   "cell_type": "code",
   "execution_count": 6,
   "id": "3e05353a-5f53-4468-b64a-83cf50bec922",
   "metadata": {},
   "outputs": [
    {
     "name": "stdout",
     "output_type": "stream",
     "text": [
      "page_content='和数字中国建设规划是数字时代推进中国式现代化发展的重要引擎，是构筑国家竞争新优势的有力支撑，自上而下为社会经济、生产生活方式指明发展方向。卫星应用利用空天地一体化时空大数据感知手段获取的大尺度、全要素地物、地表数据，是数字基础设施建设、数据要素产业推进的重要基石。数字化转型从基础设施建设到行业的信息化，再到基于数据要素的价值变现，为以遥感和北斗导航技术为代表的下一代空间信息产业发展带来众多新的需求点。随着遥感+北斗导航产业政策落地，卫星应用的市场化应用和产业化规模逐步在生态环境、海洋渔业、气象、\\n' metadata={}\n"
     ]
    }
   ],
   "source": [
    "print(docs[0])"
   ]
  },
  {
   "cell_type": "code",
   "execution_count": 5,
   "id": "a744d889-515b-4e8c-aee2-9d14e2172083",
   "metadata": {},
   "outputs": [
    {
     "data": {
      "application/vnd.jupyter.widget-view+json": {
       "model_id": "26dbaf13ce904f39932e96df74d78496",
       "version_major": 2,
       "version_minor": 0
      },
      "text/plain": [
       "Loading checkpoint shards:   0%|          | 0/7 [00:00<?, ?it/s]"
      ]
     },
     "metadata": {},
     "output_type": "display_data"
    },
    {
     "name": "stderr",
     "output_type": "stream",
     "text": [
      "Some weights of the model checkpoint at bert-base-chinese were not used when initializing BertModel: ['cls.predictions.transform.LayerNorm.bias', 'cls.seq_relationship.bias', 'cls.predictions.transform.dense.bias', 'cls.seq_relationship.weight', 'cls.predictions.transform.LayerNorm.weight', 'cls.predictions.transform.dense.weight', 'cls.predictions.bias']\n",
      "- This IS expected if you are initializing BertModel from the checkpoint of a model trained on another task or with another architecture (e.g. initializing a BertForSequenceClassification model from a BertForPreTraining model).\n",
      "- This IS NOT expected if you are initializing BertModel from the checkpoint of a model that you expect to be exactly identical (initializing a BertForSequenceClassification model from a BertForSequenceClassification model).\n"
     ]
    }
   ],
   "source": [
    "from transformers import AutoTokenizer, AutoModel\n",
    "tokenizer = AutoTokenizer.from_pretrained(\"THUDM/chatglm2-6b\", trust_remote_code=True)\n",
    "model = AutoModel.from_pretrained(\"THUDM/chatglm2-6b\", trust_remote_code=True, device='cuda')\n",
    "model = model.eval()\n",
    "\n",
    "tokenizer = AutoTokenizer.from_pretrained(\"bert-base-chinese\")\n",
    "model = AutoModel.from_pretrained(\"bert-base-chinese\")"
   ]
  },
  {
   "cell_type": "code",
   "execution_count": 6,
   "id": "455b0295-2f15-431e-941e-612bbc63495c",
   "metadata": {},
   "outputs": [
    {
     "ename": "AttributeError",
     "evalue": "'BertModel' object has no attribute 'chat'",
     "output_type": "error",
     "traceback": [
      "\u001b[0;31m---------------------------------------------------------------------------\u001b[0m",
      "\u001b[0;31mAttributeError\u001b[0m                            Traceback (most recent call last)",
      "Cell \u001b[0;32mIn[6], line 1\u001b[0m\n\u001b[0;32m----> 1\u001b[0m response, history \u001b[38;5;241m=\u001b[39m \u001b[43mmodel\u001b[49m\u001b[38;5;241;43m.\u001b[39;49m\u001b[43mchat\u001b[49m(tokenizer, \u001b[38;5;124m'\u001b[39m\u001b[38;5;124m航天\u001b[39m\u001b[38;5;124m'\u001b[39m, history\u001b[38;5;241m=\u001b[39m[])\n",
      "File \u001b[0;32m~/miniconda/envs/hxn/lib/python3.11/site-packages/torch/nn/modules/module.py:1614\u001b[0m, in \u001b[0;36mModule.__getattr__\u001b[0;34m(self, name)\u001b[0m\n\u001b[1;32m   1612\u001b[0m     \u001b[38;5;28;01mif\u001b[39;00m name \u001b[38;5;129;01min\u001b[39;00m modules:\n\u001b[1;32m   1613\u001b[0m         \u001b[38;5;28;01mreturn\u001b[39;00m modules[name]\n\u001b[0;32m-> 1614\u001b[0m \u001b[38;5;28;01mraise\u001b[39;00m \u001b[38;5;167;01mAttributeError\u001b[39;00m(\u001b[38;5;124m\"\u001b[39m\u001b[38;5;124m'\u001b[39m\u001b[38;5;132;01m{}\u001b[39;00m\u001b[38;5;124m'\u001b[39m\u001b[38;5;124m object has no attribute \u001b[39m\u001b[38;5;124m'\u001b[39m\u001b[38;5;132;01m{}\u001b[39;00m\u001b[38;5;124m'\u001b[39m\u001b[38;5;124m\"\u001b[39m\u001b[38;5;241m.\u001b[39mformat(\n\u001b[1;32m   1615\u001b[0m     \u001b[38;5;28mtype\u001b[39m(\u001b[38;5;28mself\u001b[39m)\u001b[38;5;241m.\u001b[39m\u001b[38;5;18m__name__\u001b[39m, name))\n",
      "\u001b[0;31mAttributeError\u001b[0m: 'BertModel' object has no attribute 'chat'"
     ]
    }
   ],
   "source": [
    "response, history = model.chat(tokenizer, '航天', history=[])"
   ]
  },
  {
   "cell_type": "code",
   "execution_count": null,
   "id": "62ce8364-8e38-4734-9810-398d80be3894",
   "metadata": {},
   "outputs": [],
   "source": [
    "print(response)"
   ]
  }
 ],
 "metadata": {
  "kernelspec": {
   "display_name": "Python 3 (ipykernel)",
   "language": "python",
   "name": "python3"
  },
  "language_info": {
   "codemirror_mode": {
    "name": "ipython",
    "version": 3
   },
   "file_extension": ".py",
   "mimetype": "text/x-python",
   "name": "python",
   "nbconvert_exporter": "python",
   "pygments_lexer": "ipython3",
   "version": "3.11.4"
  }
 },
 "nbformat": 4,
 "nbformat_minor": 5
}
