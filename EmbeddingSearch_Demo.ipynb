{
 "cells": [
  {
   "cell_type": "code",
   "execution_count": null,
   "id": "cb0fe912-b307-44e3-946d-c60abd4eff40",
   "metadata": {},
   "outputs": [],
   "source": [
    "from langchain.embeddings import HuggingFaceEmbeddings\n",
    "from langchain.docstore.document import Document\n",
    "from langchain.vectorstores import Chroma"
   ]
  },
  {
   "cell_type": "code",
   "execution_count": null,
   "id": "417b91f5-e9ec-4af4-a796-b261d0febc32",
   "metadata": {},
   "outputs": [],
   "source": [
    "# 指定huggingface上的嵌入模型\n",
    "embeddings = HuggingFaceEmbeddings(model_name='shibing624/text2vec-base-chinese')"
   ]
  },
  {
   "cell_type": "code",
   "execution_count": null,
   "id": "430a1f2b-0f43-47a2-8db9-94b4f379629d",
   "metadata": {},
   "outputs": [],
   "source": [
    "texts = [\n",
    "    Document(page_content='2021年4月29日,中国空间站天和核心舱发射任务取得圆满成功,开启空间\\n站任务的新时代。5月29日,天舟二号货运飞船成功发射,自主快速交会对接于\\n天和核心舱。6月17日,航天员聂海胜、刘伯明、汤洪波乘坐神舟十二号载人飞船\\n升空,成为中国空间站的首批“访客”,并于9月17日返回地球。9月20日,天舟\\n三号货运飞船升空,与天和核心舱及天舟二号货运飞船组合体交会对接。10月\\n16日,航天员翟志刚、王亚平、叶光富乘坐神舟十三号载人飞船升空,成为中国空\\n间站的第二批“访客”,开始为期6个月的太空工作和生活。'),\n",
    "    Document(page_content='北京烤鸭好吃吗？'),\n",
    "]\n",
    "texts"
   ]
  },
  {
   "cell_type": "code",
   "execution_count": null,
   "id": "7aa9c836-7e81-43fc-8105-578017d0e028",
   "metadata": {
    "scrolled": true
   },
   "outputs": [],
   "source": [
    "# Embedding 构建语义向量数据库 \n",
    "# 仅需运行一次\n",
    "db = Chroma.from_documents(texts, embeddings, persist_directory=\"./testChromadb\")\n",
    "\n",
    "# 保存数据库至本地\n",
    "db.persist()\n"
   ]
  },
  {
   "cell_type": "code",
   "execution_count": null,
   "id": "26886ee4-5cc6-4339-bdcc-536305053e75",
   "metadata": {},
   "outputs": [],
   "source": [
    "# 从本地加载数据库\n",
    "\n",
    "db = Chroma(persist_directory=\"./testChromadb\", embedding_function=embeddings)"
   ]
  },
  {
   "cell_type": "code",
   "execution_count": null,
   "id": "5ed10f6c-d4e0-42e7-b591-81cbd62c92d7",
   "metadata": {},
   "outputs": [],
   "source": [
    "# 测试语义检索效果\n",
    "query = \"中国载人\"\n",
    "docs = db.similarity_search(query, k=3)\n",
    "print(docs)"
   ]
  },
  {
   "cell_type": "code",
   "execution_count": null,
   "id": "3d1a95f0-88d2-462c-bbd5-60d8a3fcc009",
   "metadata": {},
   "outputs": [],
   "source": [
    "# 测试语义检索效果\n",
    "query = \"饿了\"\n",
    "docs = db.similarity_search(query, k=3)\n",
    "print(docs)"
   ]
  }
 ],
 "metadata": {
  "kernelspec": {
   "display_name": "Python 3 (ipykernel)",
   "language": "python",
   "name": "python3"
  },
  "language_info": {
   "codemirror_mode": {
    "name": "ipython",
    "version": 3
   },
   "file_extension": ".py",
   "mimetype": "text/x-python",
   "name": "python",
   "nbconvert_exporter": "python",
   "pygments_lexer": "ipython3",
   "version": "3.11.4"
  }
 },
 "nbformat": 4,
 "nbformat_minor": 5
}
